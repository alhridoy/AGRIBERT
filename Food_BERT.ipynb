{
  "nbformat": 4,
  "nbformat_minor": 0,
  "metadata": {
    "colab": {
      "provenance": []
    },
    "kernelspec": {
      "name": "python3",
      "display_name": "Python 3"
    },
    "language_info": {
      "name": "python"
    }
  },
  "cells": [
    {
      "cell_type": "code",
      "execution_count": 14,
      "metadata": {
        "id": "JSPD_qsEr_bo"
      },
      "outputs": [],
      "source": [
        "import torch\n",
        "from transformers import AutoTokenizer, AutoModelForSequenceClassification\n",
        "from torch.utils.data import Dataset, DataLoader\n",
        "from sklearn.model_selection import train_test_split"
      ]
    },
    {
      "cell_type": "code",
      "source": [
        "food_qa_data = [\n",
        "    (\"What is a good source of vitamin C?\", \"Oranges are high in vitamin C.\", 1),\n",
        "    (\"What is a good source of vitamin C?\", \"Beef is rich in protein.\", 0),\n",
        "    (\"Which food is high in protein?\", \"Chicken breast is an excellent source of protein.\", 1),\n",
        "    (\"Which food is high in protein?\", \"Apples are sweet and crunchy.\", 0),\n",
        "    (\"What's a popular breakfast food?\", \"Eggs are a common breakfast food.\", 1),\n",
        "    (\"What's a popular breakfast food?\", \"Salmon is often eaten for dinner.\", 0),\n",
        "    (\"What is a good source of fiber?\", \"Oats are a great source of fiber.\", 1),\n",
        "    (\"What is a good source of fiber?\", \"Ice cream is rich in sugar.\", 0),\n",
        "    (\"Which food contains healthy fats?\", \"Avocados are a great source of healthy fats.\", 1),\n",
        "    (\"Which food contains healthy fats?\", \"White bread is low in fat.\", 0),\n",
        "    (\"What's a good snack for energy?\", \"Bananas provide a quick energy boost.\", 1),\n",
        "    (\"What's a good snack for energy?\", \"Lettuce is mostly water and low in energy.\", 0),\n",
        "    (\"What food is rich in calcium?\", \"Dairy products like milk and cheese are rich in calcium.\", 1),\n",
        "    (\"What food is rich in calcium?\", \"Chicken has a lot of protein but not much calcium.\", 0),\n",
        "    (\"Which food is low in calories?\", \"Cucumbers are low in calories and refreshing.\", 1),\n",
        "    (\"Which food is low in calories?\", \"Cheeseburgers are high in calories.\", 0),\n",
        "    (\"Which food is a good source of iron?\", \"Spinach is a great source of iron.\", 1),\n",
        "    (\"Which food is a good source of iron?\", \"Soda contains no iron.\", 0),\n",
        "    (\"What food helps in digestion?\", \"Yogurt with probiotics helps with digestion.\", 1),\n",
        "    (\"What food helps in digestion?\", \"Cookies are high in sugar and do not help with digestion.\", 0),\n",
        "    (\"Which fruit is high in antioxidants?\", \"Blueberries are packed with antioxidants.\", 1),\n",
        "    (\"Which fruit is high in antioxidants?\", \"French fries are high in fat and not in antioxidants.\", 0),\n",
        "    (\"Which vegetable is a good source of vitamin A?\", \"Carrots are a great source of vitamin A.\", 1),\n",
        "    (\"Which vegetable is a good source of vitamin A?\", \"Candy contains no vitamins.\", 0),\n",
        "    (\"What food is high in omega-3 fatty acids?\", \"Salmon is rich in omega-3 fatty acids.\", 1),\n",
        "    (\"What food is high in omega-3 fatty acids?\", \"Chocolate cake is high in sugar, not omega-3.\", 0),\n",
        "    (\"Which food is good for bone health?\", \"Milk is good for bone health due to its calcium content.\", 1),\n",
        "    (\"Which food is good for bone health?\", \"Soft drinks contain no calcium and are not good for bones.\", 0),\n",
        "    (\"What food is high in potassium?\", \"Bananas are high in potassium.\", 1),\n",
        "    (\"What food is high in potassium?\", \"Butter is high in fat but contains little potassium.\", 0),\n",
        "    (\"What food helps reduce cholesterol?\", \"Oats can help reduce cholesterol.\", 1),\n",
        "    (\"What food helps reduce cholesterol?\", \"Fried chicken is high in cholesterol and fat.\", 0),\n",
        "    (\"Which food boosts the immune system?\", \"Citrus fruits like oranges boost the immune system.\", 1),\n",
        "    (\"Which food boosts the immune system?\", \"Candy lowers the immune response due to high sugar.\", 0),\n",
        "    (\"Which food is good for eye health?\", \"Carrots contain beta-carotene, good for eye health.\", 1),\n",
        "    (\"Which food is good for eye health?\", \"Donuts are not beneficial for eye health.\", 0),\n",
        "    (\"Which food contains probiotics?\", \"Kefir is rich in probiotics.\", 1),\n",
        "    (\"Which food contains probiotics?\", \"Potato chips do not contain probiotics.\", 0),\n",
        "    (\"Which food is good for heart health?\", \"Walnuts are good for heart health due to healthy fats.\", 1),\n",
        "    (\"Which food is good for heart health?\", \"Fried foods are bad for heart health.\", 0),\n",
        "    (\"What food is high in zinc?\", \"Pumpkin seeds are high in zinc.\", 1),\n",
        "    (\"What food is high in zinc?\", \"Candy provides no zinc.\", 0),\n",
        "    (\"Which food contains a lot of vitamin K?\", \"Kale is high in vitamin K.\", 1),\n",
        "    (\"Which food contains a lot of vitamin K?\", \"White rice has very little vitamin K.\", 0),\n",
        "    (\"Which food is a good source of magnesium?\", \"Almonds are a good source of magnesium.\", 1),\n",
        "    (\"Which food is a good source of magnesium?\", \"Cake is high in sugar, not magnesium.\", 0),\n",
        "    (\"Which fruit is high in vitamin E?\", \"Avocados are high in vitamin E.\", 1),\n",
        "    (\"Which fruit is high in vitamin E?\", \"Pasta is not a source of vitamin E.\", 0),\n",
        "    (\"What food contains folic acid?\", \"Leafy greens are rich in folic acid.\", 1),\n",
        "    (\"What food contains folic acid?\", \"Soda contains no folic acid.\", 0),\n",
        "    (\"Which food helps with hydration?\", \"Cucumbers are high in water and help with hydration.\", 1),\n",
        "    (\"Which food helps with hydration?\", \"Chips are salty and do not help with hydration.\", 0),\n",
        "    (\"Which food is good for brain function?\", \"Walnuts are good for brain function due to healthy fats.\", 1),\n",
        "    (\"Which food is good for brain function?\", \"Sugary snacks do not aid brain function.\", 0),\n",
        "    (\"Which food is high in carbohydrates?\", \"Pasta is high in carbohydrates.\", 1),\n",
        "    (\"Which food is high in carbohydrates?\", \"Lettuce is low in carbohydrates.\", 0),\n",
        "    (\"What food is rich in vitamin B12?\", \"Clams are an excellent source of vitamin B12.\", 1),\n",
        "    (\"What food is rich in vitamin B12?\", \"Chips have no vitamin B12.\", 0),\n",
        "    (\"Which food helps reduce inflammation?\", \"Turmeric is known to help reduce inflammation.\", 1),\n",
        "    (\"Which food helps reduce inflammation?\", \"Candy can increase inflammation due to sugar.\", 0),\n",
        "    (\"What food is high in protein for vegetarians?\", \"Lentils are a great source of protein for vegetarians.\", 1),\n",
        "    (\"What food is high in protein for vegetarians?\", \"Jelly beans are not a source of protein.\", 0),\n",
        "    (\"Which food is rich in vitamin D?\", \"Fish like salmon are rich in vitamin D.\", 1),\n",
        "    (\"Which food is rich in vitamin D?\", \"Cookies have no vitamin D.\", 0),\n",
        "    (\"What food is high in antioxidants?\", \"Dark chocolate is high in antioxidants.\", 1),\n",
        "    (\"What food is high in antioxidants?\", \"Chips are not a source of antioxidants.\", 0),\n",
        "    (\"Which fruit is rich in vitamin A?\", \"Mangoes are rich in vitamin A.\", 1),\n",
        "    (\"Which fruit is rich in vitamin A?\", \"Fries are not rich in vitamins.\", 0),\n",
        "    (\"What food helps with muscle recovery?\", \"Chicken is a great source of protein for muscle recovery.\", 1),\n",
        "    (\"What food helps with muscle recovery?\", \"Candy contains sugar and is not good for muscle recovery.\", 0),\n",
        "    (\"Which food is high in dietary fiber?\", \"Lentils are high in dietary fiber.\", 1),\n",
        "    (\"Which food is high in dietary fiber?\", \"Cake is not high in fiber.\", 0),\n",
        "    (\"What food helps boost energy?\", \"Oatmeal helps boost energy due to complex carbs.\", 1),\n",
        "    (\"What food helps boost energy?\", \"Chips provide a temporary energy boost but not sustained.\", 0),\n",
        "    (\"Which food is a good source of omega-3?\", \"Flaxseeds are a great source of omega-3.\", 1),\n",
        "    (\"Which food is a good source of omega-3?\", \"Bread does not contain omega-3.\", 0),\n",
        "    (\"What food is good for digestive health?\", \"Probiotic yogurt is good for digestive health.\", 1),\n",
        "    (\"What food is good for digestive health?\", \"Candy is not good for digestive health.\", 0),\n",
        "    (\"Which food is low in fat?\", \"Cucumbers are low in fat.\", 1),\n",
        "    (\"Which food is low in fat?\", \"Fried chicken is high in fat.\", 0),\n",
        "    (\"Which food is rich in vitamin B6?\", \"Bananas are rich in vitamin B6.\", 1),\n",
        "    (\"Which food is rich in vitamin B6?\", \"Candy contains no vitamin B6.\", 0),\n",
        "    (\"What food helps with muscle growth?\", \"Eggs are a great source of protein for muscle growth.\", 1),\n",
        "    (\"What food helps with muscle growth?\", \"Cookies are not helpful for muscle growth.\", 0),\n",
        "    (\"Which food is good for skin health?\", \"Sweet potatoes are good for skin health.\", 1),\n",
        "    (\"Which food is good for skin health?\", \"Pizza is not good for skin health.\", 0),\n",
        "    (\"Which food is rich in folate?\", \"Spinach is rich in folate.\", 1),\n",
        "    (\"Which food is rich in folate?\", \"Soda contains no folate.\", 0),\n",
        "]\n",
        "\n",
        "class FoodQADataset(Dataset):\n",
        "    def __init__(self, data, tokenizer, max_length=128):\n",
        "        self.data = data\n",
        "        self.tokenizer = tokenizer\n",
        "        self.max_length = max_length\n",
        "\n",
        "    def __len__(self):\n",
        "        return len(self.data)\n",
        "\n",
        "    def __getitem__(self, idx):\n",
        "        question, answer, label = self.data[idx]\n",
        "        encoding = self.tokenizer.encode_plus(\n",
        "            question,\n",
        "            answer,\n",
        "            add_special_tokens=True,\n",
        "            max_length=self.max_length,\n",
        "            padding='max_length',\n",
        "            truncation=True,\n",
        "            return_tensors='pt'\n",
        "        )\n",
        "        return {\n",
        "            'input_ids': encoding['input_ids'].flatten(),\n",
        "            'attention_mask': encoding['attention_mask'].flatten(),\n",
        "            'label': torch.tensor(label, dtype=torch.long)\n",
        "        }\n",
        "\n",
        "def train_food_qa_model(data, model_name=\"recobo/agriculture-bert-uncased\", epochs=3, batch_size=4):\n",
        "    tokenizer = AutoTokenizer.from_pretrained(model_name)\n",
        "    model = AutoModelForSequenceClassification.from_pretrained(model_name, num_labels=2)\n",
        "\n",
        "    train_data, val_data = train_test_split(data, test_size=0.2, random_state=42)\n",
        "    train_dataset = FoodQADataset(train_data, tokenizer)\n",
        "    val_dataset = FoodQADataset(val_data, tokenizer)\n",
        "\n",
        "    train_dataloader = DataLoader(train_dataset, batch_size=batch_size, shuffle=True)\n",
        "    val_dataloader = DataLoader(val_dataset, batch_size=batch_size)\n",
        "\n",
        "    optimizer = torch.optim.AdamW(model.parameters(), lr=2e-5)\n",
        "    device = torch.device('cuda' if torch.cuda.is_available() else 'cpu')\n",
        "    model.to(device)\n",
        "\n",
        "    for epoch in range(epochs):\n",
        "        model.train()\n",
        "        for batch in train_dataloader:\n",
        "            optimizer.zero_grad()\n",
        "            inputs = {k: v.to(device) for k, v in batch.items() if k != 'label'}\n",
        "            labels = batch['label'].to(device)\n",
        "            outputs = model(**inputs, labels=labels)\n",
        "            loss = outputs.loss\n",
        "            loss.backward()\n",
        "            optimizer.step()\n",
        "\n",
        "        # Validation\n",
        "        model.eval()\n",
        "        correct = 0\n",
        "        total = 0\n",
        "        with torch.no_grad():\n",
        "            for batch in val_dataloader:\n",
        "                inputs = {k: v.to(device) for k, v in batch.items() if k != 'label'}\n",
        "                labels = batch['label'].to(device)\n",
        "                outputs = model(**inputs)\n",
        "                _, predicted = torch.max(outputs.logits, 1)\n",
        "                total += labels.size(0)\n",
        "                correct += (predicted == labels).sum().item()\n",
        "\n",
        "        print(f\"Epoch {epoch+1}/{epochs}\")\n",
        "        print(f\"Validation Accuracy: {100 * correct / total:.2f}%\")\n",
        "\n",
        "    return model, tokenizer"
      ],
      "metadata": {
        "id": "q_4PU5o6sFN2"
      },
      "execution_count": 15,
      "outputs": []
    },
    {
      "cell_type": "code",
      "source": [],
      "metadata": {
        "id": "sFIN2oFH63pM"
      },
      "execution_count": null,
      "outputs": []
    },
    {
      "cell_type": "code",
      "source": [
        "\n",
        "# Train the model\n",
        "trained_model, tokenizer = train_food_qa_model(food_qa_data)\n",
        "\n",
        "def select_answer(model, tokenizer, question, candidate_answers):\n",
        "    device = torch.device('cuda' if torch.cuda.is_available() else 'cpu')\n",
        "    model.to(device)\n",
        "    model.eval()\n",
        "\n",
        "    scores = []\n",
        "    for answer in candidate_answers:\n",
        "        inputs = tokenizer.encode_plus(\n",
        "            question,\n",
        "            answer,\n",
        "            add_special_tokens=True,\n",
        "            max_length=128,\n",
        "            padding='max_length',\n",
        "            truncation=True,\n",
        "            return_tensors='pt'\n",
        "        )\n",
        "        inputs = {k: v.to(device) for k, v in inputs.items()}\n",
        "\n",
        "        with torch.no_grad():\n",
        "            outputs = model(**inputs)\n",
        "            logits = outputs.logits\n",
        "            score = torch.softmax(logits, dim=1)[0][1].item()  # Probability of being the correct answer\n",
        "        scores.append(score)\n",
        "\n",
        "    best_answer_idx = max(range(len(scores)), key=scores.__getitem__)\n",
        "    return candidate_answers[best_answer_idx], scores[best_answer_idx]"
      ],
      "metadata": {
        "colab": {
          "base_uri": "https://localhost:8080/"
        },
        "id": "plWrn28SsOAn",
        "outputId": "8418a036-d26d-48d3-e1cd-4e5b498d1e1c"
      },
      "execution_count": 6,
      "outputs": [
        {
          "output_type": "stream",
          "name": "stderr",
          "text": [
            "/usr/local/lib/python3.10/dist-packages/transformers/tokenization_utils_base.py:1601: FutureWarning: `clean_up_tokenization_spaces` was not set. It will be set to `True` by default. This behavior will be depracted in transformers v4.45, and will be then set to `False` by default. For more details check this issue: https://github.com/huggingface/transformers/issues/31884\n",
            "  warnings.warn(\n",
            "Some weights of BertForSequenceClassification were not initialized from the model checkpoint at recobo/agriculture-bert-uncased and are newly initialized: ['bert.pooler.dense.bias', 'bert.pooler.dense.weight', 'classifier.bias', 'classifier.weight']\n",
            "You should probably TRAIN this model on a down-stream task to be able to use it for predictions and inference.\n"
          ]
        },
        {
          "output_type": "stream",
          "name": "stdout",
          "text": [
            "Epoch 1/3\n",
            "Validation Accuracy: 33.33%\n",
            "Epoch 2/3\n",
            "Validation Accuracy: 61.11%\n",
            "Epoch 3/3\n",
            "Validation Accuracy: 77.78%\n"
          ]
        }
      ]
    },
    {
      "cell_type": "code",
      "source": [
        "# Example usage\n",
        "question = \"What is a good source of vitamin C?\"\n",
        "candidate_answers = [\n",
        "    \"Oranges are known for their high vitamin C content.\",\n",
        "    \"Spinach is rich in iron.\",\n",
        "    \"Bananas are a good source of potassium.\"\n",
        "]\n",
        "\n",
        "best_answer, confidence = select_answer(trained_model, tokenizer, question, candidate_answers)\n",
        "print(f\"Question: {question}\")\n",
        "print(f\"Best answer: {best_answer}\")\n",
        "print(f\"Confidence: {confidence:.4f}\")"
      ],
      "metadata": {
        "colab": {
          "base_uri": "https://localhost:8080/"
        },
        "id": "6K-ntUOBsROI",
        "outputId": "ea29b747-730e-4956-96b6-3c5b9bf11584"
      },
      "execution_count": 8,
      "outputs": [
        {
          "output_type": "stream",
          "name": "stdout",
          "text": [
            "Question: What is a good source of vitamin C?\n",
            "Best answer: Bananas are a good source of potassium.\n",
            "Confidence: 0.9924\n"
          ]
        }
      ]
    },
    {
      "cell_type": "code",
      "source": [
        "#Agriculture related example"
      ],
      "metadata": {
        "id": "A9SwKW-8x6f5"
      },
      "execution_count": null,
      "outputs": []
    }
  ]
}